{
 "cells": [
  {
   "cell_type": "markdown",
   "id": "5b7a90f7-e5f9-4579-8fbf-c77883ee7f75",
   "metadata": {},
   "source": [
    "# 习题1 + 课堂作业"
   ]
  },
  {
   "cell_type": "markdown",
   "id": "adaea3b7-93ef-40de-9d80-40df496e2288",
   "metadata": {},
   "source": [
    "**1. 计算机完成特定任务所执行的一组命令被称为是（）**\n",
    "\n",
    "A. 编程语言 \n",
    "B. 编译器\n",
    "C. 解释器\n",
    "D. 程序 \n",
    "\n",
    "*答案：D*"
   ]
  },
  {
   "cell_type": "markdown",
   "id": "9686e687-d79f-48bc-839c-d60b0d116a77",
   "metadata": {},
   "source": [
    "**2. 下列选项中，对Python程序进行解释和执行的是（）**\n",
    "\n",
    "A. 键盘 \n",
    "B. 显示器\n",
    "C. Python解释器\n",
    "D. Python编译器 \n",
    "\n",
    "*答案：C*"
   ]
  },
  {
   "cell_type": "markdown",
   "id": "dd5e0b4f-4835-483b-a824-76ba0804017c",
   "metadata": {},
   "source": [
    "**3. 下列关于Python语言的描述中，错误的是（  ）**\n",
    "\n",
    "A. Python是一种解释型语言\n",
    "B. Python是开源免费的\n",
    "C. Python是交互式语言\n",
    "D. Python程序只能在IDLE中运行\n",
    "\n",
    "*答案：D*"
   ]
  },
  {
   "cell_type": "markdown",
   "id": "5d569d17-10b9-4ac9-bf05-61cf5d922f6c",
   "metadata": {},
   "source": [
    "**4. 下列不属于高级和编程语言的是（）**\n",
    "\n",
    "A. C语言\n",
    "B. 汇编语言\n",
    "C. Java语言\n",
    "D. Python语言\n",
    "\n",
    "*答案：B*"
   ]
  },
  {
   "cell_type": "markdown",
   "id": "19835bbc-b267-4007-9abc-60c95fa288ce",
   "metadata": {},
   "source": [
    "**5. 下列在Python交互模式输入的命令中（-表示空格），可以正确输出Hello的是（）**\n",
    "\n",
    "A. >>>--Print(Hello)\n",
    "\n",
    "B. >>>Print(\"Hello\")\n",
    "\n",
    "C. >>>--print(\"Hello\")\n",
    "\n",
    "D. >>>print(\"Hello\")\n",
    "\n",
    "*答案：D*"
   ]
  },
  {
   "cell_type": "markdown",
   "id": "f8300d12-f30b-46cb-9503-a1d3ce2a8f3e",
   "metadata": {},
   "source": [
    "**6. 给出下列程序的运行结果。**\n",
    "\n",
    "```\n",
    "print(\"11+22\")\n",
    "print(11 + 22)\n",
    "print(11,22,33)\n",
    "```"
   ]
  },
  {
   "cell_type": "code",
   "execution_count": 11,
   "id": "d5b86bce-1d0a-4fa8-a807-ee573036f76e",
   "metadata": {},
   "outputs": [
    {
     "name": "stdout",
     "output_type": "stream",
     "text": [
      "11 + 22\n",
      "33\n",
      "11 22 33\n"
     ]
    }
   ],
   "source": [
    "print(\"11 + 22\")\n",
    "print(11 + 22)\n",
    "print(11,22,33)"
   ]
  },
  {
   "cell_type": "markdown",
   "id": "91bfcd30-bfab-45e9-b375-869982aad5de",
   "metadata": {},
   "source": [
    "**7. 给出下列程序的运行结果。**\n",
    "\n",
    "```\n",
    "#print(\"===\")\n",
    "print(\"Hello\")\n",
    "print()\n",
    "print(\"World\")\n",
    "#print(\"===\")\n",
    "```"
   ]
  },
  {
   "cell_type": "code",
   "execution_count": 12,
   "id": "4aeb21d0-5cec-4fcf-a491-2543f65bf192",
   "metadata": {},
   "outputs": [
    {
     "name": "stdout",
     "output_type": "stream",
     "text": [
      "Hello\n",
      "\n",
      "World\n"
     ]
    }
   ],
   "source": [
    "#print(\"===\")\n",
    "print(\"Hello\")\n",
    "print()\n",
    "print(\"World\")\n",
    "#print(\"===\")"
   ]
  },
  {
   "cell_type": "markdown",
   "id": "79ccfb03-6696-44c0-94fb-e04e50e7dcf8",
   "metadata": {},
   "source": [
    "**8. 编写程序，用户分别输入两个整数，输出这两个整数的和。例如分别输入1、2，输出3。**"
   ]
  },
  {
   "cell_type": "code",
   "execution_count": 14,
   "id": "5a39472f-8c2c-49ff-be0b-3a5865dfc80f",
   "metadata": {
    "scrolled": true
   },
   "outputs": [
    {
     "name": "stdin",
     "output_type": "stream",
     "text": [
      "输入第一个整数： 1\n",
      "输入第二个整数： 2\n"
     ]
    },
    {
     "name": "stdout",
     "output_type": "stream",
     "text": [
      "两个整数的和为： 3\n"
     ]
    }
   ],
   "source": [
    "a=int(input(\"输入第一个整数：\"))\n",
    "b=int(input(\"输入第二个整数：\"))\n",
    "print(\"两个整数的和为：\", a+b)"
   ]
  },
  {
   "cell_type": "markdown",
   "id": "4e6f9928-0a9c-4488-9f85-387842692220",
   "metadata": {},
   "source": [
    "**9. 编写程序，用户分别输入两个整数，输出这两个整数为高位和低位组成的整数。例如，用户分别输入123和4567，程序输出1234567。**"
   ]
  },
  {
   "cell_type": "code",
   "execution_count": 17,
   "id": "9904f7ac-cfeb-474d-849d-f3bc990cf566",
   "metadata": {},
   "outputs": [
    {
     "name": "stdin",
     "output_type": "stream",
     "text": [
      "输入第一个整数： 123\n",
      "输入第二个整数： 4567\n"
     ]
    },
    {
     "name": "stdout",
     "output_type": "stream",
     "text": [
      "两个整数的组合为： 1234567\n"
     ]
    }
   ],
   "source": [
    "a=input(\"输入第一个整数：\")\n",
    "b=input(\"输入第二个整数：\")\n",
    "print(\"两个整数的组合为：\", a+b)"
   ]
  },
  {
   "cell_type": "markdown",
   "id": "fb7fab14-9988-41b3-9409-fbd22ed4bbd1",
   "metadata": {},
   "source": [
    "**10. 编写程序，输出前10个正整数的和，即1+2+3+...+10的结果。**"
   ]
  },
  {
   "cell_type": "code",
   "execution_count": 25,
   "id": "c7cc25dc-1123-4d4f-a57f-f3ca05031b30",
   "metadata": {},
   "outputs": [
    {
     "name": "stdout",
     "output_type": "stream",
     "text": [
      "前10个正整数的和为： 55\n"
     ]
    }
   ],
   "source": [
    "sum1 = 0\n",
    "for i in range(1,11):\n",
    "    sum1 += i\n",
    "print(\"前10个正整数的和为：\", sum1)"
   ]
  },
  {
   "cell_type": "markdown",
   "id": "86b80392-ded4-4bd6-9d9d-c710cd4376d8",
   "metadata": {},
   "source": [
    "**11. 编写程序，输出前10个正整数的乘积，即1*2*3*...*10的结果。**"
   ]
  },
  {
   "cell_type": "code",
   "execution_count": 22,
   "id": "823720a2-da8a-401f-a89a-7bb26820ff65",
   "metadata": {},
   "outputs": [
    {
     "name": "stdout",
     "output_type": "stream",
     "text": [
      "前10个正整数的乘积为： 3628800\n"
     ]
    }
   ],
   "source": [
    "ans = 1\n",
    "for i in range(2,11):\n",
    "    ans *= i\n",
    "print(\"前10个正整数的乘积为：\", ans)"
   ]
  },
  {
   "cell_type": "markdown",
   "id": "4989a273-403b-4bb9-981a-cb6dcec438aa",
   "metadata": {},
   "source": [
    "**12. 编写程序，以“*”作为基本要素输出ZJUT的图案。**\n",
    "```\n",
    "****** ****** *    * ******\n",
    "    *     *   *    *    *\n",
    "   *      *   *    *    *\n",
    "  *    *  *   *    *    *\n",
    " *      * *   *    *    *\n",
    " ******  *     ****     *\n",
    "```"
   ]
  },
  {
   "cell_type": "code",
   "execution_count": 23,
   "id": "1966434a-77b0-4d9d-8bf1-f9e75c059e92",
   "metadata": {},
   "outputs": [
    {
     "name": "stdout",
     "output_type": "stream",
     "text": [
      "****** ****** *    * ******\n",
      "    *     *   *    *    *\n",
      "   *      *   *    *    *\n",
      "  *    *  *   *    *    *\n",
      " *      * *   *    *    *\n",
      " ******  *     ****     *\n"
     ]
    }
   ],
   "source": [
    "print(\"****** ****** *    * ******\")\n",
    "print(\"    *     *   *    *    *\")\n",
    "print(\"   *      *   *    *    *\")\n",
    "print(\"  *    *  *   *    *    *\")\n",
    "print(\" *      * *   *    *    *\")\n",
    "print(\" ******  *     ****     *\")"
   ]
  },
  {
   "cell_type": "markdown",
   "id": "86e5f0e6-dec6-4442-85a5-4a50b9406094",
   "metadata": {},
   "source": [
    "**13. 编写程序，输出前10个正整数的乘积，即1*2*3*...*10的结果。**\n",
    "\n",
    "完成人名地名连接程序，要求输入输出如下所示：\n",
    "\n",
    "```\n",
    "输入一个地名：杭州\n",
    "\n",
    "输入一个人名：娃娃\n",
    "\n",
    "杭州很美，娃娃想去看看\n",
    "```"
   ]
  },
  {
   "cell_type": "code",
   "execution_count": 2,
   "id": "d7733051-4c7c-4a3b-90d5-c0cc2ffbbd82",
   "metadata": {},
   "outputs": [
    {
     "name": "stdin",
     "output_type": "stream",
     "text": [
      "输入一个地名： 杭州\n",
      "输入一个人名： 娃娃\n"
     ]
    },
    {
     "name": "stdout",
     "output_type": "stream",
     "text": [
      "杭州很美，娃娃想去看看\n"
     ]
    }
   ],
   "source": [
    "place = input(\"输入一个地名：\")\n",
    "name = input(\"输入一个人名：\")\n",
    "ans = place + \"很美，\" + name + \"想去看看\"\n",
    "print(ans)"
   ]
  },
  {
   "cell_type": "markdown",
   "id": "91547a04-925e-447d-b775-3c536b415521",
   "metadata": {},
   "source": [
    "**14. 编写程序，输出前10个正整数的乘积，即1*2*3*...*10的结果。**\n",
    "\n",
    "输入月份，输出该月的英语简称，月份可表示为：`month = ['Jan','Feb','Mar','Apr','May','Jun','Jul','Aug','Sep','Oct','Nov','Dec']`\n",
    "\n",
    "要求输入输出如下所示：\n",
    "\n",
    "```\n",
    "请输入月份：10\n",
    "\n",
    "10月的月份简写Oct\n",
    "\n",
    "请输入月份：12\n",
    "\n",
    "12月的月份简写Dec\n",
    "```"
   ]
  },
  {
   "cell_type": "code",
   "execution_count": 10,
   "id": "cf20af01-46c7-4dbc-af2b-57fbac640da2",
   "metadata": {},
   "outputs": [
    {
     "name": "stdin",
     "output_type": "stream",
     "text": [
      "请输入月份： 12\n"
     ]
    },
    {
     "name": "stdout",
     "output_type": "stream",
     "text": [
      "12月的月份简写Dec\n"
     ]
    }
   ],
   "source": [
    "month = ['Jan','Feb','Mar','Apr','May','Jun','Jul','Aug','Sep','Oct','Nov','Dec']\n",
    "im = int(input(\"请输入月份：\"))\n",
    "ans = str(im) + \"月的月份简写\" + month[im-1]\n",
    "print(ans)"
   ]
  },
  {
   "cell_type": "markdown",
   "id": "35865bca-7022-45e4-b251-851bd3dc2f43",
   "metadata": {},
   "source": [
    "**15. 计算一组数的平均值，所有数值直接在代码中输入。**\n",
    "\n",
    "输出第一行是整组数，第二行是平均值。要求输入输出如下所示： \n",
    "\n",
    "计算一组数的平均值，所有数值直接在代码中输入。输出第一行是整组数，第二行是平均值。要求输入输出如下所示：\n",
    "```\n",
    "一组数：[34,5,89,3,32,122]\n",
    "\n",
    "47.500\n",
    "```"
   ]
  },
  {
   "cell_type": "code",
   "execution_count": 30,
   "id": "e02eec28-24c7-4650-891f-f8c435e49902",
   "metadata": {},
   "outputs": [
    {
     "name": "stdout",
     "output_type": "stream",
     "text": [
      "一组数： [34, 5, 89, 3, 32, 122]\n",
      "47.500\n"
     ]
    }
   ],
   "source": [
    "numlist = [34,5,89,3,32,122]\n",
    "print(\"一组数：\", numlist)\n",
    "ave = sum(numlist)/len(numlist)\n",
    "print(\"%.3f\" % ave)"
   ]
  },
  {
   "cell_type": "markdown",
   "id": "32dfca80-4529-423b-9e9b-037c6ccc867f",
   "metadata": {},
   "source": [
    "**16. 三个字符由用户同时输入，用逗号分隔，比较大小后输出最大的那个字母，样例输入输出如下所示：**\n",
    "\n",
    "```\n",
    "请输入三个字符用逗号分隔，x,y,z=J,K,a\n",
    "\n",
    "J,K,a中最大的字符是a\n",
    "```"
   ]
  },
  {
   "cell_type": "code",
   "execution_count": 23,
   "id": "26c3f4c5-4313-4585-b885-8f6d808ff462",
   "metadata": {},
   "outputs": [
    {
     "name": "stdin",
     "output_type": "stream",
     "text": [
      "请输入三个字符用逗号分隔，x,y,z= J,K,a\n"
     ]
    },
    {
     "name": "stdout",
     "output_type": "stream",
     "text": [
      "J,K,a中最大的字符是 a\n"
     ]
    }
   ],
   "source": [
    "str3 = input(\"请输入三个字符用逗号分隔，x,y,z=\")\n",
    "strlist = str3.split(\",\")\n",
    "maxord = ord(strlist[0])\n",
    "ans = strlist[0]\n",
    "for i in strlist:\n",
    "    if ord(i)>maxord:\n",
    "        maxord = ord(i)\n",
    "        ans = i\n",
    "print(\"J,K,a中最大的字符是\",ans)"
   ]
  }
 ],
 "metadata": {
  "kernelspec": {
   "display_name": "Python 3 (ipykernel)",
   "language": "python",
   "name": "python3"
  },
  "language_info": {
   "codemirror_mode": {
    "name": "ipython",
    "version": 3
   },
   "file_extension": ".py",
   "mimetype": "text/x-python",
   "name": "python",
   "nbconvert_exporter": "python",
   "pygments_lexer": "ipython3",
   "version": "3.11.13"
  }
 },
 "nbformat": 4,
 "nbformat_minor": 5
}
