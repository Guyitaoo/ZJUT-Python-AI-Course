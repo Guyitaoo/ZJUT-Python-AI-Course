{
 "cells": [
  {
   "cell_type": "markdown",
   "id": "3ac1ab20-387a-4398-97dd-77475d87a429",
   "metadata": {},
   "source": [
    "# 输入/输出函数"
   ]
  },
  {
   "cell_type": "markdown",
   "id": "00f17572-faf9-4e2c-94ca-d14abb17bdc4",
   "metadata": {},
   "source": [
    "## 输入函数"
   ]
  },
  {
   "cell_type": "markdown",
   "id": "e1be629c-fa87-40d1-9845-f874bff656f0",
   "metadata": {},
   "source": [
    "### 语法格式\n",
    "`变量=input('提示信息:')`\n",
    "\n",
    "### 语法说明\n",
    "\n",
    "1. `input()`函数引号中的提示信息可以省略不写，但为了更好地跟用户交互，建议书写合适的提示信息，提示用户在这个信息后面输入相关内容。\n",
    "\n",
    "2. 提示信息可以使用字符串常量（必须用引号）或字符串变量。\n",
    "\n",
    "3. `input()`函数执行后用户输入的内容可以赋值给一个变量（变量的概念在后续章节会详细介绍）。\n",
    "\n",
    "4. 利用`input()`函数输入的数据类型必须是字符串。\n",
    "\n",
    "下面是一些部分`input()`函数的运行结果："
   ]
  },
  {
   "cell_type": "code",
   "execution_count": 2,
   "id": "b52aa963-43f9-4770-9189-1b638306e882",
   "metadata": {},
   "outputs": [
    {
     "name": "stdin",
     "output_type": "stream",
     "text": [
      "请输入课程名称： Python\n"
     ]
    },
    {
     "name": "stdout",
     "output_type": "stream",
     "text": [
      "Python\n"
     ]
    }
   ],
   "source": [
    "x = input(\"请输入课程名称：\")  # 显示提示信息，在后面输入内容\n",
    "print(x)                     # 显示x结果"
   ]
  },
  {
   "cell_type": "code",
   "execution_count": 3,
   "id": "94e21be2-3e23-4048-88c1-06fb3142b7c8",
   "metadata": {},
   "outputs": [
    {
     "name": "stdin",
     "output_type": "stream",
     "text": [
      " Python\n"
     ]
    },
    {
     "name": "stdout",
     "output_type": "stream",
     "text": [
      "Python\n"
     ]
    }
   ],
   "source": [
    "y = input()   # 没有任何提示信息，用户体验会变差\n",
    "print(y)"
   ]
  },
  {
   "cell_type": "code",
   "execution_count": 5,
   "id": "3f5ac16f-deb6-4088-a150-6e0602680680",
   "metadata": {},
   "outputs": [
    {
     "name": "stdin",
     "output_type": "stream",
     "text": [
      "请输入课程名称： Python\n"
     ]
    },
    {
     "name": "stdout",
     "output_type": "stream",
     "text": [
      "Python\n"
     ]
    }
   ],
   "source": [
    "z = \"请输入课程名称：\"  # 给z赋值为一个字符串\n",
    "k = input(z)          # 提示信息采用变量，注意z两边没有引号\n",
    "print(k)"
   ]
  },
  {
   "cell_type": "markdown",
   "id": "5dbf45fe-7395-47d0-8cc1-8783b1156771",
   "metadata": {},
   "source": [
    "思考：用input()函数给变量x和y输入两个数字，运行x+y的结果如下"
   ]
  },
  {
   "cell_type": "code",
   "execution_count": 13,
   "id": "69763705-9ad0-4728-9809-2d46d40b1bda",
   "metadata": {},
   "outputs": [
    {
     "name": "stdin",
     "output_type": "stream",
     "text": [
      "输入x： 1\n",
      "输入y： 2\n"
     ]
    },
    {
     "name": "stdout",
     "output_type": "stream",
     "text": [
      "12\n"
     ]
    }
   ],
   "source": [
    "x = input(\"输入x：\")\n",
    "y = input(\"输入y：\")\n",
    "print(x+y)"
   ]
  },
  {
   "cell_type": "markdown",
   "id": "e126242a-5b35-4743-a687-0701c6332e65",
   "metadata": {},
   "source": [
    "`input()`函数输入的数据类型为字符串，直接将二者相加得到的结果是字符串的前后拼接。若想要实现数值相加，需要将输入内容转化为整型（int）后再做加法"
   ]
  },
  {
   "cell_type": "code",
   "execution_count": 11,
   "id": "2703fac7-dd69-4cf4-8e6f-5f642cbffd66",
   "metadata": {},
   "outputs": [
    {
     "name": "stdin",
     "output_type": "stream",
     "text": [
      "输入x： 1\n",
      "输入y： 2\n"
     ]
    },
    {
     "name": "stdout",
     "output_type": "stream",
     "text": [
      "3\n"
     ]
    }
   ],
   "source": [
    "x = int(input(\"输入x：\"))\n",
    "y = int(input(\"输入y：\"))\n",
    "print(x+y)"
   ]
  },
  {
   "cell_type": "markdown",
   "id": "bdc937db-07d6-41c0-bf03-bc1b0f38db77",
   "metadata": {},
   "source": [
    "## 输出函数"
   ]
  },
  {
   "cell_type": "markdown",
   "id": "099edf54-772f-4632-9fe0-951e9ae809ea",
   "metadata": {},
   "source": [
    "### 语法格式\n",
    "`print(valuel,value2, ...[, sep = ''][, end = '\\n'][, file = sys.stdout][, flush = Truel False])`\n",
    "\n",
    "### 语法说明\n",
    "\n",
    "1. 在语法格式中出现的中括号若不做特殊说明表示括号内的参数可以缺省，缺省多数的值为系统默认值。\n",
    "\n",
    "2. `print()`函数是一个操作,因此不需要赋值给任何变量。\n",
    "\n",
    "3. `value`表示输出的具体内容,省略号表示可以打印不止一个数据项,各个数据项之间用逗号分隔。\n",
    "\n",
    "4. `sep`参数表示输出多个数据项时,用指定分隔符进行分隔,默认为一个空格，\n",
    "\n",
    "5. `end`参数表示输出完`print()`函数内的所有数据内容后光标的具体位置,默认为换行符`'\\n'`,即换行到下一行等待后续输出。\n",
    "\n",
    "6. `file`参数表示将文本输出到文件对象file中,file对象可以是数据流、磁盘文件等，默认为sys.stdout,即直接输出到控制台即交互式运行窗口。\n",
    "\n",
    "7. `flush`参数用于内存管理,`flush`为`True`会在`print()`结束之后,立即将内存中的数据显示到屏幕上,并清空缓存,默认为`False`。\n",
    "\n",
    "下面是部分`print()`函数的运行结果："
   ]
  },
  {
   "cell_type": "code",
   "execution_count": 19,
   "id": "d802eb19-9d5b-4447-b4c6-e2655268d57d",
   "metadata": {},
   "outputs": [
    {
     "name": "stdout",
     "output_type": "stream",
     "text": [
      "123\n",
      "Hello ZJUT!\n",
      "123 Hello ZJUT!\n"
     ]
    }
   ],
   "source": [
    "x = 123\n",
    "y = \"Hello ZJUT!\"\n",
    "print(x)      #输出整数\n",
    "print(y)     #输出字符串\n",
    "print(x, y)  #两个内容同时输出"
   ]
  },
  {
   "cell_type": "markdown",
   "id": "2208b4e9-ff8a-497e-914c-c4160c8bb052",
   "metadata": {},
   "source": [
    "sep参数："
   ]
  },
  {
   "cell_type": "code",
   "execution_count": 24,
   "id": "66efbe30-e950-4bcb-9c24-c7b41b0484ce",
   "metadata": {},
   "outputs": [
    {
     "name": "stdout",
     "output_type": "stream",
     "text": [
      "123/Hello ZJUT!/111.222\n"
     ]
    }
   ],
   "source": [
    "z = 111.222\n",
    "print(x, y, z, sep='/')  #用'/'分隔输出的前后两项"
   ]
  },
  {
   "cell_type": "markdown",
   "id": "808565bc-7f15-4cd7-b19a-2109b9c2c98e",
   "metadata": {},
   "source": [
    "end参数："
   ]
  },
  {
   "cell_type": "code",
   "execution_count": 28,
   "id": "80887b0e-2020-4763-af9a-0a067646e526",
   "metadata": {},
   "outputs": [
    {
     "name": "stdout",
     "output_type": "stream",
     "text": [
      "123 Hello ZJUT!**111.222\n"
     ]
    }
   ],
   "source": [
    "#输出后加上'**'\n",
    "print(x,y,end='**')\n",
    "print(z)"
   ]
  }
 ],
 "metadata": {
  "kernelspec": {
   "display_name": "Python 3 (ipykernel)",
   "language": "python",
   "name": "python3"
  },
  "language_info": {
   "codemirror_mode": {
    "name": "ipython",
    "version": 3
   },
   "file_extension": ".py",
   "mimetype": "text/x-python",
   "name": "python",
   "nbconvert_exporter": "python",
   "pygments_lexer": "ipython3",
   "version": "3.11.13"
  }
 },
 "nbformat": 4,
 "nbformat_minor": 5
}
