{
 "cells": [
  {
   "cell_type": "markdown",
   "id": "cbf17b1f-7f20-494d-ac2f-4fb4e2631f4f",
   "metadata": {},
   "source": [
    "8"
   ]
  },
  {
   "cell_type": "code",
   "execution_count": 2,
   "id": "4524229b-3115-492f-8bc0-b364f10918e7",
   "metadata": {},
   "outputs": [
    {
     "name": "stdin",
     "output_type": "stream",
     "text": [
      "输入第一个整数： 1\n",
      "输入第二个整数： 2\n"
     ]
    },
    {
     "name": "stdout",
     "output_type": "stream",
     "text": [
      "两个整数的和为： 3\n"
     ]
    }
   ],
   "source": [
    "a=int(input(\"输入第一个整数：\"))\n",
    "b=int(input(\"输入第二个整数：\"))\n",
    "print(\"两个整数的和为：\", a+b)"
   ]
  },
  {
   "cell_type": "markdown",
   "id": "f7402ef9-6e56-4365-8a18-065772ddc410",
   "metadata": {},
   "source": [
    "9"
   ]
  },
  {
   "cell_type": "code",
   "execution_count": 4,
   "id": "ce5e28ec-b8ee-445b-8192-34d8632bf725",
   "metadata": {},
   "outputs": [
    {
     "name": "stdin",
     "output_type": "stream",
     "text": [
      "输入第一个整数： 123\n",
      "输入第二个整数： 4567\n"
     ]
    },
    {
     "name": "stdout",
     "output_type": "stream",
     "text": [
      "两个整数的组合为： 1234567\n"
     ]
    }
   ],
   "source": [
    "a=input(\"输入第一个整数：\")\n",
    "b=input(\"输入第二个整数：\")\n",
    "print(\"两个整数的组合为：\", a+b)"
   ]
  },
  {
   "cell_type": "markdown",
   "id": "b0375c1e-73ca-407e-9886-43377188c35e",
   "metadata": {},
   "source": [
    "10"
   ]
  },
  {
   "cell_type": "code",
   "execution_count": 45,
   "id": "f2b8d037-9b82-4b97-8539-26462ed053b3",
   "metadata": {},
   "outputs": [
    {
     "name": "stdout",
     "output_type": "stream",
     "text": [
      "前10个正整数的和为： 55\n"
     ]
    }
   ],
   "source": [
    "print(\"前10个正整数的和为：\", 1+2+3+4+5+6+7+8+9+10)"
   ]
  },
  {
   "cell_type": "markdown",
   "id": "44f02cda-45a2-4e72-88d5-0af71cc21764",
   "metadata": {},
   "source": [
    "11"
   ]
  },
  {
   "cell_type": "code",
   "execution_count": 46,
   "id": "a93f1591-21ee-4f7c-b69c-90c8dfb5742e",
   "metadata": {},
   "outputs": [
    {
     "name": "stdout",
     "output_type": "stream",
     "text": [
      "前10个正整数的乘积为： 3628800\n"
     ]
    }
   ],
   "source": [
    "print(\"前10个正整数的乘积为：\", 1*2*3*4*5*6*7*8*9*10)"
   ]
  },
  {
   "cell_type": "markdown",
   "id": "67ebfd2d-aef6-4573-bbd6-5e8ba346c792",
   "metadata": {},
   "source": [
    "12"
   ]
  },
  {
   "cell_type": "code",
   "execution_count": 11,
   "id": "5bfd2253-f0f7-454c-b374-85c7b6dd9aca",
   "metadata": {},
   "outputs": [
    {
     "name": "stdout",
     "output_type": "stream",
     "text": [
      "****** ****** *    * ******\n",
      "    *     *   *    *    *\n",
      "   *      *   *    *    *\n",
      "  *    *  *   *    *    *\n",
      " *      * *   *    *    *\n",
      " ******  *     ****     *\n"
     ]
    }
   ],
   "source": [
    "print(\"****** ****** *    * ******\")\n",
    "print(\"    *     *   *    *    *\")\n",
    "print(\"   *      *   *    *    *\")\n",
    "print(\"  *    *  *   *    *    *\")\n",
    "print(\" *      * *   *    *    *\")\n",
    "print(\" ******  *     ****     *\")"
   ]
  },
  {
   "cell_type": "markdown",
   "id": "bee500a7-56ec-48f5-b0f4-8af8275c5494",
   "metadata": {},
   "source": [
    "13"
   ]
  },
  {
   "cell_type": "code",
   "execution_count": 13,
   "id": "871b691a-dbd1-4897-a981-28e89bd048aa",
   "metadata": {},
   "outputs": [
    {
     "name": "stdin",
     "output_type": "stream",
     "text": [
      "输入一个地名： 杭州\n",
      "输入一个人名： 娃娃\n"
     ]
    },
    {
     "name": "stdout",
     "output_type": "stream",
     "text": [
      "杭州很美，娃娃想去看看\n"
     ]
    }
   ],
   "source": [
    "place = input(\"输入一个地名：\")\n",
    "name = input(\"输入一个人名：\")\n",
    "ans = place + \"很美，\" + name + \"想去看看\"\n",
    "print(ans)"
   ]
  },
  {
   "cell_type": "markdown",
   "id": "ccfa402a-c625-422d-afa3-5d8a18133f02",
   "metadata": {},
   "source": [
    "14"
   ]
  },
  {
   "cell_type": "code",
   "execution_count": 15,
   "id": "7152705c-2e45-440b-8d00-cc07a5ce920b",
   "metadata": {},
   "outputs": [
    {
     "name": "stdin",
     "output_type": "stream",
     "text": [
      "请输入月份： 10\n"
     ]
    },
    {
     "name": "stdout",
     "output_type": "stream",
     "text": [
      "10月的月份简写Oct\n"
     ]
    },
    {
     "name": "stdin",
     "output_type": "stream",
     "text": [
      "请输入月份： 12\n"
     ]
    },
    {
     "name": "stdout",
     "output_type": "stream",
     "text": [
      "12月的月份简写Dec\n"
     ]
    }
   ],
   "source": [
    "month = ['Jan','Feb','Mar','Apr','May','Jun','Jul','Aug','Sep','Oct','Nov','Dec']\n",
    "im = int(input(\"请输入月份：\"))\n",
    "ans = str(im) + \"月的月份简写\" + month[im-1]\n",
    "print(ans)\n",
    "im = int(input(\"请输入月份：\"))\n",
    "ans = str(im) + \"月的月份简写\" + month[im-1]\n",
    "print(ans)"
   ]
  },
  {
   "cell_type": "markdown",
   "id": "bb348f68-a935-44ea-a279-3240de56bc6c",
   "metadata": {},
   "source": [
    "15"
   ]
  },
  {
   "cell_type": "code",
   "execution_count": 50,
   "id": "f5c5080f-c87c-4f9d-a86d-1203327daf18",
   "metadata": {},
   "outputs": [
    {
     "name": "stdout",
     "output_type": "stream",
     "text": [
      "一组数： [34, 5, 89, 3, 32, 122]\n",
      "47.500\n"
     ]
    }
   ],
   "source": [
    "numlist = [34,5,89,3,32,122]\n",
    "print(\"一组数：\", numlist)\n",
    "total = 0\n",
    "for i in range(len(numlist)):\n",
    "    total+=numlist[i]\n",
    "ave = total/len(numlist)\n",
    "print(\"%.3f\" % ave)\n",
    "#之前疏忽定义了名为sum的变量来存放整型，然后在该notebook文件中sum()求列表元素和的命令就用不了，解决方法暂未找到，所以先用for来实现"
   ]
  },
  {
   "cell_type": "markdown",
   "id": "1f2c75fc-05a4-4612-ae7d-98f22088fd9c",
   "metadata": {},
   "source": [
    "16"
   ]
  },
  {
   "cell_type": "code",
   "execution_count": 48,
   "id": "eecdb133-e136-45e6-9867-097f9f78ee55",
   "metadata": {},
   "outputs": [
    {
     "name": "stdin",
     "output_type": "stream",
     "text": [
      "请输入三个字符用逗号分隔，x,y,z= J,K,a\n"
     ]
    },
    {
     "name": "stdout",
     "output_type": "stream",
     "text": [
      "J,K,a中最大的字符是 a\n"
     ]
    }
   ],
   "source": [
    "str3 = input(\"请输入三个字符用逗号分隔，x,y,z=\")\n",
    "strlist = str3.split(\",\")\n",
    "maxord = ord(strlist[0])\n",
    "ans = strlist[0]\n",
    "for i in strlist:\n",
    "    if ord(i)>maxord:\n",
    "        maxord = ord(i)\n",
    "        ans = i\n",
    "print(\"J,K,a中最大的字符是\",ans)"
   ]
  }
 ],
 "metadata": {
  "kernelspec": {
   "display_name": "Python 3 (ipykernel)",
   "language": "python",
   "name": "python3"
  },
  "language_info": {
   "codemirror_mode": {
    "name": "ipython",
    "version": 3
   },
   "file_extension": ".py",
   "mimetype": "text/x-python",
   "name": "python",
   "nbconvert_exporter": "python",
   "pygments_lexer": "ipython3",
   "version": "3.11.13"
  }
 },
 "nbformat": 4,
 "nbformat_minor": 5
}
